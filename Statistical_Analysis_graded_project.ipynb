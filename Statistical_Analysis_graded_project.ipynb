{
 "cells": [
  {
   "cell_type": "markdown",
   "id": "04a41715-cd47-488a-b187-a26e80e1e37c",
   "metadata": {},
   "source": [
    "#### Statistical Analysis Graded Project"
   ]
  },
  {
   "cell_type": "markdown",
   "id": "00e7d8d2-7021-4a7a-8e99-ec897191dc1f",
   "metadata": {},
   "source": [
    "Context - HealthCare Plus is a multi-specialty hospital that provides medical consultations,\n",
    "treatments, and diagnostic services. The hospital management wants to use statistical\n",
    "analysis to optimize operations, improve patient care, and make data-driven decisions.\n",
    "To achieve this, HealthCare Plus has collected data on patient admission times,\n",
    "recovery durations, patient satisfaction scores, effectiveness of different treatments,\n",
    "hospital expenses, and staff efficiency. The goal is to analyze this data and provide\n",
    "insights that can help improve hospital operations, enhance patient satisfaction, and\n",
    "reduce unnecessary expenses.\n"
   ]
  },
  {
   "cell_type": "code",
   "execution_count": 36,
   "id": "11ad9196-97f1-4c1e-bac2-39048968f5a7",
   "metadata": {},
   "outputs": [],
   "source": [
    "## import necessary libraries\n",
    "\n",
    "import pandas as pd\n",
    "import numpy as np\n",
    "from scipy.stats import skew, kurtosis"
   ]
  },
  {
   "cell_type": "markdown",
   "id": "4b885b3e-2cba-4d7e-8ddd-85ed52db43b7",
   "metadata": {},
   "source": [
    "#### Section A"
   ]
  },
  {
   "cell_type": "markdown",
   "id": "83d01770-f329-4e40-b258-025f2b6b2e24",
   "metadata": {},
   "source": [
    "1.HealthCare Plus recorded the daily number of patient admissions for the past 10 days:\n",
    "[32, 28, 35, 30, 29, 27, 31, 34, 33, 30]\n",
    "● Compute the mean, median, and mode of patient admissions.\n",
    "● Which measure best represents patient admissions?\n",
    "● If the hospital increases its admission capacity by 10%, how will this affect the\n",
    "measures of central tendency?\n"
   ]
  },
  {
   "cell_type": "code",
   "execution_count": 8,
   "id": "b45a6b5c-53eb-43e6-a794-52de613ef748",
   "metadata": {},
   "outputs": [],
   "source": [
    "## Load the data\n",
    "\n",
    "admissions_data = [32, 28, 35, 30, 29, 27, 31, 34, 33, 30]\n",
    "\n",
    "## convert into a pandas Series\n",
    "\n",
    "admissions_series = pd.Series(admissions_data)\n",
    "\n",
    "## statistical calculations\n",
    "\n",
    "mean_admissions = admissions_series.mean()\n",
    "median_admissions = admissions_series.median()\n",
    "mode_admissions = admissions_series.mode()"
   ]
  },
  {
   "cell_type": "code",
   "execution_count": 10,
   "id": "86703752-87fc-45af-943d-9a086252c40c",
   "metadata": {},
   "outputs": [
    {
     "name": "stdout",
     "output_type": "stream",
     "text": [
      "The mean of the data series is: 30.9\n",
      "The median of the data series is : 30.5\n",
      "The mode of the data series is: 0    30\n",
      "dtype: int64\n"
     ]
    }
   ],
   "source": [
    "## Display the results\n",
    "\n",
    "print(f\"The mean of the data series is: {mean_admissions}\")\n",
    "print(f\"The median of the data series is : {median_admissions}\")\n",
    "print(f\"The mode of the data series is: {mode_admissions}\")"
   ]
  },
  {
   "cell_type": "markdown",
   "id": "bdad2616-25f6-4150-a09b-6c7a34a89989",
   "metadata": {},
   "source": [
    "Q- Which measure best represents patient admissions? "
   ]
  },
  {
   "cell_type": "markdown",
   "id": "95d2ec97-4717-4e31-a8cb-47d26f82e51b",
   "metadata": {},
   "source": [
    "Answer - As there are no outliers and data is fairly uniformly distributed we can consider the mean to be the best number in this case"
   ]
  },
  {
   "cell_type": "markdown",
   "id": "6b65d470-4e50-4c19-83b9-bcde77ae4180",
   "metadata": {},
   "source": [
    "Q - If the hospital increases its admission capacity by 10%, how will this affect the\n",
    "measures of central tendency?"
   ]
  },
  {
   "cell_type": "markdown",
   "id": "afa66a44-8013-4ed9-9d67-f8b210e905d6",
   "metadata": {},
   "source": [
    "Answer - If the capacity is increased by 10%. And we see a 10% increase in daily admissions as well. then the central tendency figures will also increase by the same proportions that is 10%."
   ]
  },
  {
   "cell_type": "markdown",
   "id": "f77eb54e-be54-42e7-9e4a-af1928233ade",
   "metadata": {},
   "source": [
    "#### Question 2"
   ]
  },
  {
   "cell_type": "markdown",
   "id": "b31beb3c-2a30-4eaa-a76b-40765aa81a47",
   "metadata": {},
   "source": [
    "2. The recovery duration (in days) of 10 patients who underwent the same surgery is\n",
    "recorded as follows:\n",
    "[5, 7, 6, 8, 9, 5, 6, 7, 8, 6]\n",
    "● Calculate the range, variance, and standard deviation.\n",
    "● What does the standard deviation indicate about variability in recovery times?\n",
    "● If two new patients take 4 and 10 days to recover, how will this impact the\n",
    "standard deviation?"
   ]
  },
  {
   "cell_type": "code",
   "execution_count": 22,
   "id": "91929909-28f2-4732-b296-65a7d7ad9a0b",
   "metadata": {},
   "outputs": [],
   "source": [
    "# Load the data\n",
    "\n",
    "recovery_duration = [5, 7, 6, 8, 9, 5, 6, 7, 8, 6]\n",
    "\n",
    "## Create a pandas Series\n",
    "\n",
    "recovery_series = pd.Series(recovery_duration)\n",
    "\n",
    "## Calculate the range of data as the difference between max and min\n",
    "\n",
    "recovery_range = recovery_series.max() - recovery_series.min()\n",
    "\n",
    "## calculate the variance in data range\n",
    "\n",
    "recovery_variance = recovery_series.var()\n",
    "\n",
    "## Calculate the Standard Deviation of the data\n",
    "\n",
    "recovery_std = recovery_series.std()"
   ]
  },
  {
   "cell_type": "code",
   "execution_count": 26,
   "id": "1693d164-fd79-46f4-b011-7e05c9ed8cc1",
   "metadata": {},
   "outputs": [
    {
     "name": "stdout",
     "output_type": "stream",
     "text": [
      "The range is: 4\n",
      "The variance is : 1.788888888888889\n",
      "The Standard Deviation is: 1.3374935098492586\n"
     ]
    }
   ],
   "source": [
    "## Display the data\n",
    "\n",
    "print(f\"The range is: {recovery_range}\")\n",
    "print(f\"The variance is : {recovery_variance}\")\n",
    "print(f\"The standard deviation is: {recovery_std}\")"
   ]
  },
  {
   "cell_type": "markdown",
   "id": "6b439752-6eb8-46a9-83c5-480f488b82ab",
   "metadata": {},
   "source": [
    "##### Question -What does the standard deviation indicate about variability in recovery times?"
   ]
  },
  {
   "cell_type": "markdown",
   "id": "f85ab84d-6457-4203-a796-3d1c01bc90ed",
   "metadata": {},
   "source": [
    "Answer - the standard deviation is 1.33, it means that the recovery time could be 1.33 above or below the mean value. Since it is quite small that means the recovery durations are very consistent, no huge variations"
   ]
  },
  {
   "cell_type": "markdown",
   "id": "53295cb4-281a-41c9-bece-e8bbf63ab8ea",
   "metadata": {},
   "source": [
    "##### Question - If two new patients take 4 and 10 days to recover, how will this impact the standard deviation?"
   ]
  },
  {
   "cell_type": "code",
   "execution_count": 31,
   "id": "11957c2d-cc52-4eaa-ac17-c5817fb6586c",
   "metadata": {},
   "outputs": [
    {
     "name": "stdout",
     "output_type": "stream",
     "text": [
      "The new standard deviation is: 1.764549903980152\n"
     ]
    }
   ],
   "source": [
    "new_data_set = [5, 7, 6, 8, 9, 5, 6, 7, 8, 6,4,10]\n",
    "\n",
    "new_series = pd.Series(new_data_set)\n",
    "\n",
    "new_std = new_series.std()\n",
    "\n",
    "print(f\"The new standard deviation is: {new_std}\")"
   ]
  },
  {
   "cell_type": "markdown",
   "id": "83843efc-a896-4a47-88c1-6e116af4d68a",
   "metadata": {},
   "source": [
    "Answer - the standard deviation has increased to 1.73 days. Most probably due to one patient taking 10 days to recover"
   ]
  },
  {
   "cell_type": "markdown",
   "id": "cfef9a66-12a5-45fb-bd34-501a1f57db11",
   "metadata": {},
   "source": [
    "##### Question 3"
   ]
  },
  {
   "cell_type": "markdown",
   "id": "741bacc6-3c19-46aa-aee0-3fff19fdbbda",
   "metadata": {},
   "source": [
    "3. Patient satisfaction scores (on a scale of 1 to 10) collected from a hospital survey\n",
    "are:\n",
    "[8, 9, 7, 8, 10, 7, 9, 6, 10, 8, 7, 9]\n",
    "● Compute skewness and kurtosis.\n",
    "● Interpret the results—does the data suggest a normal distribution?\n",
    "● If the hospital implements a new customer service initiative and satisfaction\n",
    "scores shift higher, what type of skewness change would you expect?"
   ]
  },
  {
   "cell_type": "code",
   "execution_count": 40,
   "id": "eb69a162-dc03-4c83-9344-27cfff8cdbf5",
   "metadata": {},
   "outputs": [
    {
     "name": "stdout",
     "output_type": "stream",
     "text": [
      "The skewness is : -0.04146734005998014\n",
      "The kurtosis is: -1.0145959416162336\n"
     ]
    }
   ],
   "source": [
    "##  Load the data\n",
    "\n",
    "satisfaction_scores = [8, 9, 7, 8, 10, 7, 9, 6, 10, 8, 7, 9]\n",
    "\n",
    "## Convert the list to a panda series\n",
    "\n",
    "satisfaction_scores_series = pd.Series(satisfaction_scores)\n",
    "\n",
    "# Compute skewness and kurtosis\n",
    "\n",
    "skewness = skew(satisfaction_scores_series)\n",
    "kurtosis = kurtosis(satisfaction_scores_series)\n",
    "\n",
    "## Display the results\n",
    "\n",
    "print(f\"The skewness is : {skewness:}\")\n",
    "print(f\"The kurtosis is: {kurtosis:}\")"
   ]
  },
  {
   "cell_type": "markdown",
   "id": "01dac859-95e9-4d40-9c70-b605248d8866",
   "metadata": {},
   "source": [
    "Slightly negative skew, but value is very less -0.04 so indicates normal distribution"
   ]
  },
  {
   "cell_type": "markdown",
   "id": "b33d0e46-d439-4b5f-aea8-613b9d30b301",
   "metadata": {},
   "source": [
    "##### Question 4"
   ]
  },
  {
   "cell_type": "markdown",
   "id": "f02ec30b-0b9c-4d4f-9d92-4defde550170",
   "metadata": {},
   "source": [
    "HealthCare Plus wants to analyze the relationship between nurse staffing levels and\n",
    "patient recovery time. Data from 6 hospital departments is provided:"
   ]
  },
  {
   "cell_type": "markdown",
   "id": "d1e60719-0e23-47d8-8c74-8a1b50de9001",
   "metadata": {},
   "source": [
    "Compute the correlation coefficient between nurse staffing and patient recovery\n",
    "time.\n",
    "● If the hospital increases the number of nurses by 5 per department, how will this\n",
    "affect the recovery time based on the trend?"
   ]
  },
  {
   "cell_type": "code",
   "execution_count": 46,
   "id": "12927535-3708-455b-a6bc-ee690bcc2d76",
   "metadata": {},
   "outputs": [],
   "source": [
    "## Load the data\n",
    "\n",
    "nurses = [10, 12, 15, 18, 20, 22]\n",
    "recovery_days = [8, 7, 6, 5, 4, 3]\n",
    "\n",
    "## create a pandas dataframe\n",
    "\n",
    "df = pd.DataFrame({'number_nurses': nurses, 'recovery_days': recovery_days})"
   ]
  },
  {
   "cell_type": "code",
   "execution_count": 48,
   "id": "88f252dc-5def-4291-b592-0824f553a68f",
   "metadata": {},
   "outputs": [
    {
     "data": {
      "text/html": [
       "<div>\n",
       "<style scoped>\n",
       "    .dataframe tbody tr th:only-of-type {\n",
       "        vertical-align: middle;\n",
       "    }\n",
       "\n",
       "    .dataframe tbody tr th {\n",
       "        vertical-align: top;\n",
       "    }\n",
       "\n",
       "    .dataframe thead th {\n",
       "        text-align: right;\n",
       "    }\n",
       "</style>\n",
       "<table border=\"1\" class=\"dataframe\">\n",
       "  <thead>\n",
       "    <tr style=\"text-align: right;\">\n",
       "      <th></th>\n",
       "      <th>number_nurses</th>\n",
       "      <th>recovery_days</th>\n",
       "    </tr>\n",
       "  </thead>\n",
       "  <tbody>\n",
       "    <tr>\n",
       "      <th>0</th>\n",
       "      <td>10</td>\n",
       "      <td>8</td>\n",
       "    </tr>\n",
       "    <tr>\n",
       "      <th>1</th>\n",
       "      <td>12</td>\n",
       "      <td>7</td>\n",
       "    </tr>\n",
       "    <tr>\n",
       "      <th>2</th>\n",
       "      <td>15</td>\n",
       "      <td>6</td>\n",
       "    </tr>\n",
       "    <tr>\n",
       "      <th>3</th>\n",
       "      <td>18</td>\n",
       "      <td>5</td>\n",
       "    </tr>\n",
       "    <tr>\n",
       "      <th>4</th>\n",
       "      <td>20</td>\n",
       "      <td>4</td>\n",
       "    </tr>\n",
       "    <tr>\n",
       "      <th>5</th>\n",
       "      <td>22</td>\n",
       "      <td>3</td>\n",
       "    </tr>\n",
       "  </tbody>\n",
       "</table>\n",
       "</div>"
      ],
      "text/plain": [
       "   number_nurses  recovery_days\n",
       "0             10              8\n",
       "1             12              7\n",
       "2             15              6\n",
       "3             18              5\n",
       "4             20              4\n",
       "5             22              3"
      ]
     },
     "execution_count": 48,
     "metadata": {},
     "output_type": "execute_result"
    }
   ],
   "source": [
    "df"
   ]
  },
  {
   "cell_type": "code",
   "execution_count": 52,
   "id": "d8757938-5454-4c0e-935d-8dc4be4c3de1",
   "metadata": {},
   "outputs": [
    {
     "data": {
      "text/html": [
       "<div>\n",
       "<style scoped>\n",
       "    .dataframe tbody tr th:only-of-type {\n",
       "        vertical-align: middle;\n",
       "    }\n",
       "\n",
       "    .dataframe tbody tr th {\n",
       "        vertical-align: top;\n",
       "    }\n",
       "\n",
       "    .dataframe thead th {\n",
       "        text-align: right;\n",
       "    }\n",
       "</style>\n",
       "<table border=\"1\" class=\"dataframe\">\n",
       "  <thead>\n",
       "    <tr style=\"text-align: right;\">\n",
       "      <th></th>\n",
       "      <th>number_nurses</th>\n",
       "      <th>recovery_days</th>\n",
       "    </tr>\n",
       "  </thead>\n",
       "  <tbody>\n",
       "    <tr>\n",
       "      <th>number_nurses</th>\n",
       "      <td>1.000000</td>\n",
       "      <td>-0.996757</td>\n",
       "    </tr>\n",
       "    <tr>\n",
       "      <th>recovery_days</th>\n",
       "      <td>-0.996757</td>\n",
       "      <td>1.000000</td>\n",
       "    </tr>\n",
       "  </tbody>\n",
       "</table>\n",
       "</div>"
      ],
      "text/plain": [
       "               number_nurses  recovery_days\n",
       "number_nurses       1.000000      -0.996757\n",
       "recovery_days      -0.996757       1.000000"
      ]
     },
     "execution_count": 52,
     "metadata": {},
     "output_type": "execute_result"
    }
   ],
   "source": [
    "## Find correlation\n",
    "df.corr()"
   ]
  },
  {
   "cell_type": "markdown",
   "id": "2058ed45-a724-48d2-9af7-d89d9bf5fb2c",
   "metadata": {},
   "source": [
    "Very strong negative correlation - it shows that as number of nurses increase, patient recovery time decreases"
   ]
  },
  {
   "cell_type": "markdown",
   "id": "71ba1832-60e5-43ea-a7d3-1a12ac2bb143",
   "metadata": {},
   "source": [
    "Question - If the hospital increases the number of nurses by 5 per department, how will this\n",
    "affect the recovery time based on the trend?"
   ]
  },
  {
   "cell_type": "markdown",
   "id": "36ffccb6-1be3-4283-a5fc-848b816d3756",
   "metadata": {},
   "source": [
    "Answer -  the recovery time will reduce as number of nurses increase"
   ]
  },
  {
   "cell_type": "markdown",
   "id": "2a58e909-9d3c-432a-ac6d-85f3c5416bd7",
   "metadata": {},
   "source": [
    "#### Section B"
   ]
  },
  {
   "cell_type": "markdown",
   "id": "d9442fbe-cc68-4bc7-9021-92c6397fa003",
   "metadata": {},
   "source": [
    "The hospital claims that the average patient wait time in the emergency department\n",
    "is 30 minutes. A sample of 10 patient wait times (in minutes) is recorded:\n",
    "[32, 29, 31, 34, 33, 27, 30, 28, 35, 26]\n",
    "● Test whether the hospital’s claim is valid at a 5% significance level.\n",
    "● State the null and alternative hypotheses.\n",
    "● If the wait time significantly exceeds 30 minutes, what changes should the\n",
    "hospital implement to reduce waiting time?\n"
   ]
  },
  {
   "cell_type": "raw",
   "id": "ada5c7ce-3171-4c82-85be-52c5ea4e173d",
   "metadata": {},
   "source": [
    "null hypothesis = avg wait times is 30 mins\n",
    "alternate hypothesis = avg wait time is not 30 mins \n",
    "sample size = 10\n",
    "significance level = 0.05\n",
    "\n",
    "\n",
    "Will be using t-test for the hypothesis testing"
   ]
  },
  {
   "cell_type": "code",
   "execution_count": 61,
   "id": "967c7951-1c69-47b1-9fb4-30dc726b59af",
   "metadata": {},
   "outputs": [
    {
     "name": "stdout",
     "output_type": "stream",
     "text": [
      "0.5222329678670935\n"
     ]
    }
   ],
   "source": [
    "# Load the data\n",
    "\n",
    "wait_times = [32, 29, 31, 34, 33, 27, 30, 28, 35, 26]\n",
    "\n",
    "# Calculate the sample size\n",
    "\n",
    "n = len(wait_times)\n",
    "\n",
    "# Calculate the mean and the standard deviation\n",
    "\n",
    "avg_wait_time = np.mean(wait_times)\n",
    "std = np.std(wait_times, ddof=1)\n",
    "\n",
    "\n",
    "# The mean from null hypothesis\n",
    "\n",
    "null_hypothesis_mean = 30\n",
    "\n",
    "# Calculate the t-statistic value\n",
    "\n",
    "t_stat = (avg_wait_time - null_hypothesis_mean) / (std / np.sqrt(n))\n",
    "\n",
    "print(t_stat)"
   ]
  },
  {
   "cell_type": "raw",
   "id": "d15215a4-1bd3-4605-8548-6292d956b99a",
   "metadata": {},
   "source": [
    "From looking at p-value tables for the t-test value at 0.05 signifance level;\n",
    "the p- value = 0.627\n",
    "\n",
    "Since the p-value is greater than 0.05, the result is not significant. So we cannot reject the null hypotheses"
   ]
  },
  {
   "cell_type": "code",
   "execution_count": null,
   "id": "0e8f98e1-ee87-44f1-a3a7-b7c70bd7f548",
   "metadata": {},
   "outputs": [],
   "source": []
  }
 ],
 "metadata": {
  "kernelspec": {
   "display_name": "Python 3 (ipykernel)",
   "language": "python",
   "name": "python3"
  },
  "language_info": {
   "codemirror_mode": {
    "name": "ipython",
    "version": 3
   },
   "file_extension": ".py",
   "mimetype": "text/x-python",
   "name": "python",
   "nbconvert_exporter": "python",
   "pygments_lexer": "ipython3",
   "version": "3.12.4"
  }
 },
 "nbformat": 4,
 "nbformat_minor": 5
}
